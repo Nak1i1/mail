{
 "cells": [
  {
   "cell_type": "code",
   "execution_count": 1,
   "id": "2039fc9e",
   "metadata": {},
   "outputs": [],
   "source": [
    "import imaplib\n",
    "import email\n",
    "from email.header import decode_header\n",
    "import base64\n",
    "from bs4 import BeautifulSoup\n",
    "import re\n",
    "\n",
    "import config"
   ]
  },
  {
   "cell_type": "markdown",
   "id": "0c311d53",
   "metadata": {},
   "source": [
    "# Подключаемся к серверу, логинимся"
   ]
  },
  {
   "cell_type": "code",
   "execution_count": 113,
   "id": "87690481",
   "metadata": {},
   "outputs": [
    {
     "data": {
      "text/plain": [
       "('OK', [b'Authentication successful'])"
      ]
     },
     "execution_count": 113,
     "metadata": {},
     "output_type": "execute_result"
    }
   ],
   "source": [
    "mail_pass = config.mail_pass\n",
    "username = config.username\n",
    "imap_server = \"imap.mail.ru\"\n",
    "imap = imaplib.IMAP4_SSL(imap_server)\n",
    "imap.login(username, mail_pass)"
   ]
  },
  {
   "cell_type": "markdown",
   "id": "eeccdc56",
   "metadata": {},
   "source": [
    "## Выбираем папку"
   ]
  },
  {
   "cell_type": "code",
   "execution_count": 114,
   "id": "22c889cd",
   "metadata": {},
   "outputs": [
    {
     "data": {
      "text/plain": [
       "('OK', [b'20'])"
      ]
     },
     "execution_count": 114,
     "metadata": {},
     "output_type": "execute_result"
    }
   ],
   "source": [
    "imap.select(\"INBOX\")"
   ]
  },
  {
   "cell_type": "markdown",
   "id": "3672ed28",
   "metadata": {},
   "source": [
    "### Выбираем все письма, получаем порядковые номера"
   ]
  },
  {
   "cell_type": "code",
   "execution_count": 15,
   "id": "322180d7",
   "metadata": {},
   "outputs": [
    {
     "data": {
      "text/plain": [
       "('OK', [b'1 2 3 4 5 6 7 8 9 10 11 12 13 14 15 16 17 18 19 20'])"
      ]
     },
     "execution_count": 15,
     "metadata": {},
     "output_type": "execute_result"
    }
   ],
   "source": [
    "imap.search(None, 'ALL')"
   ]
  },
  {
   "cell_type": "code",
   "execution_count": 9,
   "id": "47d7acc4",
   "metadata": {},
   "outputs": [
    {
     "name": "stdout",
     "output_type": "stream",
     "text": [
      "NO [b'[CANNOT] Unsupported search criterion: FROM']\n"
     ]
    }
   ],
   "source": [
    "# M is a connected IMAP4 instance...\n",
    "typ, msgnums = imap.search(None, 'FROM', '\"LDJ\"')\n",
    "print(typ, msgnums)"
   ]
  },
  {
   "cell_type": "markdown",
   "id": "2112912e",
   "metadata": {},
   "source": [
    "### Выбираем непрочитанные письма, получаем их порядковые номера"
   ]
  },
  {
   "cell_type": "code",
   "execution_count": 16,
   "id": "be123c11",
   "metadata": {},
   "outputs": [
    {
     "data": {
      "text/plain": [
       "('OK', [b'12 16 19'])"
      ]
     },
     "execution_count": 16,
     "metadata": {},
     "output_type": "execute_result"
    }
   ],
   "source": [
    "imap.search(None, \"UNSEEN\")"
   ]
  },
  {
   "cell_type": "markdown",
   "id": "d4cc9c92",
   "metadata": {},
   "source": [
    "#### получаем UID непрочитанных писем"
   ]
  },
  {
   "cell_type": "code",
   "execution_count": 17,
   "id": "d47cc95c",
   "metadata": {},
   "outputs": [
    {
     "data": {
      "text/plain": [
       "('OK', [b'14 24 28'])"
      ]
     },
     "execution_count": 17,
     "metadata": {},
     "output_type": "execute_result"
    }
   ],
   "source": [
    "imap.uid('search', \"UNSEEN\", \"ALL\")"
   ]
  },
  {
   "cell_type": "markdown",
   "id": "959d1124",
   "metadata": {},
   "source": [
    "# открываем конкретное письмо (в этом примере 19 номер по порядку и UID-28)"
   ]
  },
  {
   "cell_type": "code",
   "execution_count": 116,
   "id": "9d1f71a9",
   "metadata": {},
   "outputs": [],
   "source": [
    "res, msg = imap.fetch(b'19', '(RFC822)')  #Для метода search по порядковому номеру письма\n",
    "res, msg = imap.uid('fetch', b'28', '(RFC822)')  #Для метода uid"
   ]
  },
  {
   "cell_type": "markdown",
   "id": "f9bbe3dc",
   "metadata": {},
   "source": [
    "### после этой операции письмо в ящике будет отмечено как прочитанное"
   ]
  },
  {
   "cell_type": "code",
   "execution_count": 84,
   "id": "49b38b00",
   "metadata": {},
   "outputs": [
    {
     "data": {
      "text/plain": [
       "b'19 (UID 28 RFC822 {110401}'"
      ]
     },
     "execution_count": 84,
     "metadata": {},
     "output_type": "execute_result"
    }
   ],
   "source": [
    "msg[0][0]"
   ]
  },
  {
   "cell_type": "markdown",
   "id": "1e872471",
   "metadata": {},
   "source": [
    "## получаем объект email из байтов"
   ]
  },
  {
   "cell_type": "code",
   "execution_count": 117,
   "id": "34ce8263",
   "metadata": {},
   "outputs": [
    {
     "data": {
      "text/plain": [
       "email.message.Message"
      ]
     },
     "execution_count": 117,
     "metadata": {},
     "output_type": "execute_result"
    }
   ],
   "source": [
    "msg = email.message_from_bytes(msg[0][1])\n",
    "type(msg)"
   ]
  },
  {
   "cell_type": "markdown",
   "id": "d6505171",
   "metadata": {},
   "source": [
    "## собираем информацию о письме"
   ]
  },
  {
   "cell_type": "code",
   "execution_count": 46,
   "id": "618ffb32",
   "metadata": {},
   "outputs": [
    {
     "name": "stdout",
     "output_type": "stream",
     "text": [
      "<class 'tuple'> <class 'str'> <1662997113.166751447@f221.i.mail.ru> <class 'str'>\n"
     ]
    }
   ],
   "source": [
    "letter_date = email.utils.parsedate_tz(msg[\"Date\"]) # дата получения, приходит в виде строки, дальше надо её парсить в формат datetime\n",
    "letter_id = msg[\"Message-ID\"] #айди письма\n",
    "letter_from = msg[\"Return-path\"] # e-mail отправителя\n",
    "\n",
    "print(type(letter_date), type(letter_id), letter_id, type(letter_from))"
   ]
  },
  {
   "cell_type": "code",
   "execution_count": 47,
   "id": "cc8b5cdc",
   "metadata": {},
   "outputs": [
    {
     "data": {
      "text/plain": [
       "'=?UTF-8?B?RndkOiDQn9GA0LjQs9C70LDRiNC10L3QuNC1INCyINC90L7QstGL0Lkg0KI=?=\\r\\n =?UTF-8?B?0LXRhdC90L7Qv9Cw0YDQuiDQsiDRgdGE0LXRgNC1INCy0YvRgdC+0LrQuNGF?=\\r\\n =?UTF-8?B?INGC0LXRhdC90L7Qu9C+0LPQuNC5IMKr0JjQoi3Qv9Cw0YDQusK7INC40Lw=?=\\r\\n =?UTF-8?B?0LXQvdC4INCRLtCg0LDQvNC10LXQstCwINC4INCc0LXQttC00YPQvdCw0YA=?=\\r\\n =?UTF-8?B?0L7QtNC90YvQuSBTdGFydHVwIEh1Yg==?='"
      ]
     },
     "execution_count": 47,
     "metadata": {},
     "output_type": "execute_result"
    }
   ],
   "source": [
    "msg[\"Subject\"] # тема письма написана кириллицей и закодирована в base64"
   ]
  },
  {
   "cell_type": "code",
   "execution_count": null,
   "id": "3081afe9",
   "metadata": {},
   "outputs": [
    {
     "data": {
      "text/plain": [
       "[(b'Fwd: \\xd0\\x9f\\xd1\\x80\\xd0\\xb8\\xd0\\xb3\\xd0\\xbb\\xd0\\xb0\\xd1\\x88\\xd0\\xb5\\xd0\\xbd\\xd0\\xb8\\xd0\\xb5 \\xd0\\xb2 \\xd0\\xbd\\xd0\\xbe\\xd0\\xb2\\xd1\\x8b\\xd0\\xb9 \\xd0\\xa2\\xd0\\xb5\\xd1\\x85\\xd0\\xbd\\xd0\\xbe\\xd0\\xbf\\xd0\\xb0\\xd1\\x80\\xd0\\xba \\xd0\\xb2 \\xd1\\x81\\xd1\\x84\\xd0\\xb5\\xd1\\x80\\xd0\\xb5 \\xd0\\xb2\\xd1\\x8b\\xd1\\x81\\xd0\\xbe\\xd0\\xba\\xd0\\xb8\\xd1\\x85 \\xd1\\x82\\xd0\\xb5\\xd1\\x85\\xd0\\xbd\\xd0\\xbe\\xd0\\xbb\\xd0\\xbe\\xd0\\xb3\\xd0\\xb8\\xd0\\xb9 \\xc2\\xab\\xd0\\x98\\xd0\\xa2-\\xd0\\xbf\\xd0\\xb0\\xd1\\x80\\xd0\\xba\\xc2\\xbb \\xd0\\xb8\\xd0\\xbc\\xd0\\xb5\\xd0\\xbd\\xd0\\xb8 \\xd0\\x91.\\xd0\\xa0\\xd0\\xb0\\xd0\\xbc\\xd0\\xb5\\xd0\\xb5\\xd0\\xb2\\xd0\\xb0 \\xd0\\xb8 \\xd0\\x9c\\xd0\\xb5\\xd0\\xb6\\xd0\\xb4\\xd1\\x83\\xd0\\xbd\\xd0\\xb0\\xd1\\x80\\xd0\\xbe\\xd0\\xb4\\xd0\\xbd\\xd1\\x8b\\xd0\\xb9 Startup Hub',\n",
       "  'utf-8')]"
      ]
     },
     "execution_count": 48,
     "metadata": {},
     "output_type": "execute_result"
    }
   ],
   "source": [
    "decode_header(msg[\"Subject\"])"
   ]
  },
  {
   "cell_type": "code",
   "execution_count": null,
   "id": "96cafa7d",
   "metadata": {},
   "outputs": [],
   "source": [
    "decode_header(msg[\"Subject\"])[0][0].decode()"
   ]
  },
  {
   "cell_type": "code",
   "execution_count": 50,
   "id": "f90c1a07",
   "metadata": {},
   "outputs": [
    {
     "data": {
      "text/plain": [
       "('OK',\n",
       " [(b'16 (BODY[HEADER.FIELDS (SUBJECT)] {357}',\n",
       "   b'Subject: =?UTF-8?B?RndkOiDQn9GA0LjQs9C70LDRiNC10L3QuNC1INCyINC90L7QstGL0Lkg0KI=?=\\r\\n =?UTF-8?B?0LXRhdC90L7Qv9Cw0YDQuiDQsiDRgdGE0LXRgNC1INCy0YvRgdC+0LrQuNGF?=\\r\\n =?UTF-8?B?INGC0LXRhdC90L7Qu9C+0LPQuNC5IMKr0JjQoi3Qv9Cw0YDQusK7INC40Lw=?=\\r\\n =?UTF-8?B?0LXQvdC4INCRLtCg0LDQvNC10LXQstCwINC4INCc0LXQttC00YPQvdCw0YA=?=\\r\\n =?UTF-8?B?0L7QtNC90YvQuSBTdGFydHVwIEh1Yg==?=\\r\\n\\r\\n'),\n",
       "  b')'])"
      ]
     },
     "execution_count": 50,
     "metadata": {},
     "output_type": "execute_result"
    }
   ],
   "source": [
    "# получить тему письма можно и так, но всё равно нужно декодировать\n",
    "imap.fetch(b'16', \"(BODY[HEADER.FIELDS (Subject)])\")"
   ]
  },
  {
   "cell_type": "markdown",
   "id": "172cf758",
   "metadata": {},
   "source": [
    "# Получаем полезную нагрузку! Вложения и текст "
   ]
  },
  {
   "cell_type": "code",
   "execution_count": 89,
   "id": "53460f49",
   "metadata": {},
   "outputs": [
    {
     "data": {
      "text/plain": [
       "[<email.message.Message at 0x7fa054142730>,\n",
       " <email.message.Message at 0x7fa0541423d0>]"
      ]
     },
     "execution_count": 89,
     "metadata": {},
     "output_type": "execute_result"
    }
   ],
   "source": [
    "# в payload несколько объектов\n",
    "msg.get_payload()"
   ]
  },
  {
   "cell_type": "code",
   "execution_count": 90,
   "id": "030f51f2",
   "metadata": {},
   "outputs": [
    {
     "data": {
      "text/plain": [
       "True"
      ]
     },
     "execution_count": 90,
     "metadata": {},
     "output_type": "execute_result"
    }
   ],
   "source": [
    "# можно проверить и так:\n",
    "msg.is_multipart()"
   ]
  },
  {
   "cell_type": "code",
   "execution_count": 118,
   "id": "e59814fc",
   "metadata": {},
   "outputs": [
    {
     "name": "stdout",
     "output_type": "stream",
     "text": [
      "multipart/alternative\n",
      "application/pdf\n"
     ]
    }
   ],
   "source": [
    "# проходимся по частям обычным способом\n",
    "payload=msg.get_payload()\n",
    "for part in payload:\n",
    "    print(part.get_content_type())  "
   ]
  },
  {
   "cell_type": "code",
   "execution_count": 119,
   "id": "f9fb5a86",
   "metadata": {},
   "outputs": [
    {
     "name": "stdout",
     "output_type": "stream",
     "text": [
      "multipart/mixed\n",
      "multipart/alternative\n",
      "text/plain\n",
      "text/html\n",
      "application/pdf\n"
     ]
    }
   ],
   "source": [
    "# метод walk раскрывает составные части, и показывает что там есть\n",
    "for part in msg.walk():\n",
    "    print(part.get_content_type())"
   ]
  },
  {
   "cell_type": "code",
   "execution_count": 120,
   "id": "d3f367fc",
   "metadata": {},
   "outputs": [
    {
     "name": "stdout",
     "output_type": "stream",
     "text": [
      "multipart/alternative\n",
      "text/plain\n",
      "text/html\n",
      "application/pdf\n"
     ]
    }
   ],
   "source": [
    "# если стандартно проходится по частям, получается довольно громоздко \n",
    "payload=msg.get_payload()\n",
    "for part in payload:\n",
    "    print(part.get_content_type())\n",
    "    if part.is_multipart():\n",
    "        level=part.get_payload()\n",
    "        for l_part in level:\n",
    "            print(l_part.get_content_type())"
   ]
  },
  {
   "cell_type": "markdown",
   "id": "b35f4c8c",
   "metadata": {},
   "source": [
    "### Получаем текст письма типа text/plain"
   ]
  },
  {
   "cell_type": "code",
   "execution_count": null,
   "id": "411a7d63",
   "metadata": {},
   "outputs": [],
   "source": [
    "for part in msg.walk():\n",
    "    if part.get_content_maintype() == 'text' and part.get_content_subtype() == 'plain':\n",
    "        print(base64.b64decode(part.get_payload()).decode())    "
   ]
  },
  {
   "cell_type": "markdown",
   "id": "4dff6b46",
   "metadata": {},
   "source": [
    "## Получаем вложения"
   ]
  },
  {
   "cell_type": "code",
   "execution_count": 123,
   "id": "b5258322",
   "metadata": {},
   "outputs": [
    {
     "name": "stdout",
     "output_type": "stream",
     "text": [
      "False\n",
      "True\n"
     ]
    }
   ],
   "source": [
    "for part in payload:\n",
    "    print(part.get_content_disposition() == 'attachment')"
   ]
  },
  {
   "cell_type": "code",
   "execution_count": 124,
   "id": "21180ee5",
   "metadata": {},
   "outputs": [
    {
     "name": "stdout",
     "output_type": "stream",
     "text": [
      "False\n",
      "False\n",
      "False\n",
      "False\n",
      "True\n"
     ]
    }
   ],
   "source": [
    "for part in msg.walk():\n",
    "    print(part.get_content_disposition() == 'attachment')"
   ]
  },
  {
   "cell_type": "code",
   "execution_count": 212,
   "id": "42cbd8de",
   "metadata": {},
   "outputs": [
    {
     "name": "stdout",
     "output_type": "stream",
     "text": [
      "=?UTF-8?B?0L/QtdGC0LDQvdC6LnBkZg==?=\n",
      "петанк.pdf\n",
      "петанк.pdf\n"
     ]
    }
   ],
   "source": [
    "for part in msg.walk():\n",
    "    if part.get_content_disposition() == 'attachment':\n",
    "        print(part.get_filename())\n",
    "        print(base64.b64decode('=0L/QtdGC0LDQvdC6LnBkZg==').decode())\n",
    "        print(decode_header(part.get_filename())[0][0].decode())\n",
    "              "
   ]
  },
  {
   "cell_type": "code",
   "execution_count": null,
   "id": "95f0898d",
   "metadata": {},
   "outputs": [],
   "source": [
    "# а тут можно увидеть и сам файл\n",
    "for part in msg.walk():\n",
    "    if part.get_content_disposition() == 'attachment':\n",
    "        print(part)"
   ]
  }
 ],
 "metadata": {
  "kernelspec": {
   "display_name": "Python 3 (ipykernel)",
   "language": "python",
   "name": "python3"
  },
  "language_info": {
   "codemirror_mode": {
    "name": "ipython",
    "version": 3
   },
   "file_extension": ".py",
   "mimetype": "text/x-python",
   "name": "python",
   "nbconvert_exporter": "python",
   "pygments_lexer": "ipython3",
   "version": "3.9.7"
  }
 },
 "nbformat": 4,
 "nbformat_minor": 5
}
